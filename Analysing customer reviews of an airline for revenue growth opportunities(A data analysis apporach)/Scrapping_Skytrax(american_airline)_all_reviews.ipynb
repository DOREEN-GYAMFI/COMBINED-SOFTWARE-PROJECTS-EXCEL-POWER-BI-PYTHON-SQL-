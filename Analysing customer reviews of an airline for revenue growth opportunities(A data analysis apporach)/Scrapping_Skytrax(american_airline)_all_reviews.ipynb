{
  "nbformat": 4,
  "nbformat_minor": 0,
  "metadata": {
    "colab": {
      "provenance": []
    },
    "kernelspec": {
      "name": "python3",
      "display_name": "Python 3"
    },
    "language_info": {
      "name": "python"
    }
  },
  "cells": [
    {
      "cell_type": "markdown",
      "source": [
        "# **Import libraries**"
      ],
      "metadata": {
        "id": "FmKqPuFIvo-9"
      }
    },
    {
      "cell_type": "code",
      "execution_count": null,
      "metadata": {
        "id": "a9zVDjYYuHgG"
      },
      "outputs": [],
      "source": [
        "from bs4 import BeautifulSoup\n",
        "import pandas as pd\n",
        "import numpy as np\n",
        "import requests as rq\n",
        "import datetime\n",
        "import requests"
      ]
    },
    {
      "cell_type": "markdown",
      "source": [],
      "metadata": {
        "id": "n8gW9gwDwC0_"
      }
    },
    {
      "cell_type": "markdown",
      "source": [
        "# **Creating global variables**"
      ],
      "metadata": {
        "id": "vLBZVMK5wC2Y"
      }
    },
    {
      "cell_type": "code",
      "execution_count": null,
      "metadata": {
        "id": "bFb6F8gnuI5G"
      },
      "outputs": [],
      "source": [
        "global rating, Aircraft, Class, Travel_type, Route, Date, comfort, staff, food, entertainment, wifi, ground_service, vfm, recommend\n",
        "\n",
        "verified=[]\n",
        "rating=[]\n",
        "feedback=[]\n",
        "Aircraft=[]\n",
        "Class=[]\n",
        "Travel_type=[]\n",
        "Route=[]\n",
        "Date=[]\n",
        "comfort=[]\n",
        "staff=[]\n",
        "food=[]\n",
        "entertainment=[]\n",
        "wifi=[]\n",
        "ground_service=[]\n",
        "vfm=[]\n",
        "recommend=[]\n"
      ]
    },
    {
      "cell_type": "markdown",
      "source": [
        "# **Extracting specific attributes and ratings from the HTML table rows**"
      ],
      "metadata": {
        "id": "YHzdrEWewz3W"
      }
    },
    {
      "cell_type": "code",
      "execution_count": null,
      "metadata": {
        "id": "Kav2M0KpuNlu"
      },
      "outputs": [],
      "source": [
        "def value_fetcher(soup):\n",
        "    rating.append(np.nan)\n",
        "    Aircraft.append(np.nan)\n",
        "    Class.append(np.nan)\n",
        "    Travel_type.append(np.nan)\n",
        "    Route.append(np.nan)\n",
        "    Date.append(np.nan)\n",
        "    comfort.append(np.nan)\n",
        "    staff.append(np.nan)\n",
        "    food.append(np.nan)\n",
        "    entertainment.append(np.nan)\n",
        "    wifi.append(np.nan)\n",
        "    ground_service.append(np.nan)\n",
        "    vfm.append(np.nan)\n",
        "    recommend.append(np.nan)\n",
        "\n",
        "    for row in soup.find_all('tr'):\n",
        "        header=row.find('td',class_='review-rating-header').text\n",
        "        value=row.find('td',class_='review-value')\n",
        "        if header=='Aircraft':\n",
        "            Aircraft[-1]=value.text\n",
        "        elif header=='Type Of Traveller':\n",
        "            Travel_type[-1]=value.text\n",
        "        elif header=='Seat Type':\n",
        "            Class[-1]=value.text\n",
        "        elif header=='Route':\n",
        "            Route[-1]=value.text\n",
        "        elif header=='Date Flown':\n",
        "            Date[-1]=value.text\n",
        "        elif header=='Seat Comfort':\n",
        "            comfort[-1]=len(row.find_all('span',class_='star fill'))\n",
        "        elif header=='Cabin Staff Service':\n",
        "            staff[-1]=len(row.find_all('span',class_='star fill'))\n",
        "        elif header=='Food & Beverages':\n",
        "            food[-1]=len(row.find_all('span',class_='star fill'))\n",
        "        elif header=='Inflight Entertainment':\n",
        "            entertainment[-1]=len(row.find_all('span',class_='star fill'))\n",
        "        elif header=='Ground Service':\n",
        "            ground_service[-1]=len(row.find_all('span',class_='star fill'))\n",
        "        elif header=='Value For Money':\n",
        "            vfm[-1]=len(row.find_all('span',class_='star fill'))\n",
        "        elif header=='Recommended':\n",
        "            recommend[-1]=value.text\n",
        "        elif header=='Wifi & Connectivity':\n",
        "            wifi[-1]=len(row.find_all('span',class_='star fill'))"
      ]
    },
    {
      "cell_type": "code",
      "execution_count": null,
      "metadata": {
        "id": "C41ndlPf4RlA"
      },
      "outputs": [],
      "source": [
        "def fetcher(element, tag, attribute, value):\n",
        "    result = element.find(tag, {attribute: value})\n",
        "    return result.text if result else None"
      ]
    },
    {
      "cell_type": "code",
      "source": [
        "pages = 1000\n",
        "page_size = 1000\n",
        "review_limit = 5624  # Desired number of reviews\n",
        "\n",
        "base_url = \"https://www.airlinequality.com/airline-reviews/american-airlines\"\n",
        "\n",
        "review_count = 0  # Initialize review count\n",
        "\n",
        "# Iterate over the pages until the desired number of reviews is reached\n",
        "for page in range(1, pages + 1):\n",
        "    url = f'{base_url}/page/{page}/?sortby=post_date%3ADesc&pagesize={page_size}'\n",
        "    response = requests.get(url)\n",
        "    page = response.text\n",
        "    soup = BeautifulSoup(page, 'lxml')\n",
        "    articles = soup.find_all('article', {'itemprop': 'review'})\n",
        "    for article in articles:\n",
        "        rating.append(fetcher(article, 'span', 'itemprop', 'ratingValue'))\n",
        "        div = article.find('div', class_='tc_mobile')\n",
        "        content = (div.find('div', class_='text_content').text.split('|'))\n",
        "        if len(content) == 2:\n",
        "            verification, review = content\n",
        "        else:\n",
        "            verification = np.nan\n",
        "            review = content[0]\n",
        "        verified.append(verification)\n",
        "        feedback.append(review)\n",
        "        table = div.find('table', class_='review-ratings')\n",
        "        value_fetcher(table)\n",
        "\n",
        "        review_count += 1  # Increment review count\n",
        "\n",
        "        if review_count >= review_limit:\n",
        "            break  # Exit the loop if the desired number of reviews is reached\n",
        "\n",
        "    if review_count >= review_limit:\n",
        "        break  # Exit the loop if the desired number of reviews is reached\n",
        "\n",
        "    print(f\"   ---> {review_count} reviews scraped\")\n",
        "\n",
        "print(f\"Total reviews scraped: {review_count}\")\n"
      ],
      "metadata": {
        "colab": {
          "base_uri": "https://localhost:8080/"
        },
        "id": "mBfux9BFjvJo",
        "outputId": "456d1467-ea92-49cd-c724-c99f47ce6dfd"
      },
      "execution_count": null,
      "outputs": [
        {
          "output_type": "stream",
          "name": "stdout",
          "text": [
            "   ---> 1000 reviews scraped\n",
            "   ---> 2000 reviews scraped\n",
            "   ---> 3000 reviews scraped\n",
            "   ---> 4000 reviews scraped\n",
            "   ---> 5000 reviews scraped\n",
            "Total reviews scraped: 5624\n"
          ]
        }
      ]
    },
    {
      "cell_type": "code",
      "execution_count": null,
      "metadata": {
        "id": "LQpAMV6evPzs"
      },
      "outputs": [],
      "source": [
        "data.to_csv('american(20000).csv',index=False)"
      ]
    }
  ]
}